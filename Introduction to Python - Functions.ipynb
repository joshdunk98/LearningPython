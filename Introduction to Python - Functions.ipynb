{
 "cells": [
  {
   "cell_type": "markdown",
   "id": "58115dff",
   "metadata": {},
   "source": [
    "# Learning the Basics with Python (part 5)"
   ]
  },
  {
   "cell_type": "markdown",
   "id": "68a1b16d",
   "metadata": {},
   "source": [
    "## Functions\n",
    "<span style=\"font-size:1.2em;\">A function is a code block that can peform specific actions and compute the result, if needed. We use functions to help modularize code. This means that if there are blocks of code that perform the same action, we can simply write the action once in a function and just call the function whenever we need to perform said action in our code. I will show an example of this later on.</span>"
   ]
  },
  {
   "cell_type": "markdown",
   "id": "4649b5fe",
   "metadata": {},
   "source": [
    "### Defining a function\n",
    "<span style=\"font-size:1.2em;\">In order to define a function, we use the **def** keyword followed by the name of the function. Additionally, we can provide a list of arguments in the parenthesis to pass to the function; however, this is optional. Arguments are values that are passed to a function in order for the function to perform a desired action. You can name the arguments whatever you want (as long as they start with a letter and contain alphanumeric {a-z,A-Z,0-9} characters and underscores). You can also specify however many you want.</span>"
   ]
  },
  {
   "cell_type": "code",
   "execution_count": null,
   "id": "5e9c9265",
   "metadata": {},
   "outputs": [],
   "source": [
    "def add(number1, number2):\n",
    "    return number1 + number2\n",
    "\n",
    "print(add(3, 5))"
   ]
  },
  {
   "cell_type": "code",
   "execution_count": null,
   "id": "0622f80f",
   "metadata": {},
   "outputs": [],
   "source": [
    "def quadratic(x):\n",
    "    result = 2*(x ** 2) + 3*x + 4\n",
    "    return result\n",
    "\n",
    "\n",
    "print(quadratic(2))"
   ]
  },
  {
   "cell_type": "markdown",
   "id": "aa956cba",
   "metadata": {},
   "source": [
    "<span style=\"font-size:1.2em;\">You can give default values to arguments in the function. This is helpful when you know that the user may not always provide a value for an argument, so the default is okay.</span>"
   ]
  },
  {
   "cell_type": "code",
   "execution_count": null,
   "id": "dbb0bc70",
   "metadata": {},
   "outputs": [],
   "source": [
    "def greeting(name=\"John\", town=\"Richmond\", age=30):\n",
    "    print(\"Hello! My name is %s. I am from %s and I am %d years old.\" % (name, town, age))\n",
    "    \n",
    "greeting()\n",
    "greeting(\"Emily\", \"Murfreesboro\", 26)"
   ]
  },
  {
   "cell_type": "markdown",
   "id": "e3bee74d",
   "metadata": {},
   "source": [
    "### Arguments: Intermediate\n",
    "The following isn't necessary to have with functions in Python and is little out of scope with basic Python; however, it is a useful thing to know for data science. There are two special keywords in Python pertaining to functions: **\\*argv** and **\\*\\*kwargs**. These are useful if you want to have an arbitrary number of arguments passed to a function, but you don't necessarily know the exact quantity that a user may pass. \n",
    "\n",
    "**\\*argv** is for non-keyword arguments and **\\*\\*kwargs** is for keyword arguments. The difference between non-keyword and keyword arguments can be seen in the previous examples. The first and second code blocks are examples of using non-keyword arguments. The third code block is an example of using keyword arguments."
   ]
  },
  {
   "cell_type": "code",
   "execution_count": null,
   "id": "55eacacb",
   "metadata": {},
   "outputs": [],
   "source": [
    "# Think of *argv as a list of arguments\n",
    "def non_keyword_arguments(*argv):\n",
    "    for arg in argv:\n",
    "        print(arg)\n",
    "               \n",
    "non_keyword_arguments(\"Hello\", \"world!\", \"This is an argument\", 1, 2.5)"
   ]
  },
  {
   "cell_type": "code",
   "execution_count": null,
   "id": "2987ef00",
   "metadata": {},
   "outputs": [],
   "source": [
    "# Think of **kwargs as a dictionary of key-value pairs\n",
    "def non_keyword_arguments(**kwargs):\n",
    "    for key, value in kwargs.items():\n",
    "        print(key, value)\n",
    "               \n",
    "non_keyword_arguments(arg1=\"Hello\", arg2=\"world!\", argument3=\"This is the third argument\", random=5)"
   ]
  },
  {
   "cell_type": "code",
   "execution_count": null,
   "id": "b69cd1e5",
   "metadata": {},
   "outputs": [],
   "source": []
  }
 ],
 "metadata": {
  "kernelspec": {
   "display_name": "Python 3 (ipykernel)",
   "language": "python",
   "name": "python3"
  },
  "language_info": {
   "codemirror_mode": {
    "name": "ipython",
    "version": 3
   },
   "file_extension": ".py",
   "mimetype": "text/x-python",
   "name": "python",
   "nbconvert_exporter": "python",
   "pygments_lexer": "ipython3",
   "version": "3.8.2"
  }
 },
 "nbformat": 4,
 "nbformat_minor": 5
}

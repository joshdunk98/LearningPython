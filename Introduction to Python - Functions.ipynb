{
 "cells": [
  {
   "cell_type": "markdown",
   "id": "58115dff",
   "metadata": {},
   "source": [
    "# Learning the Basics with Python (part 5)"
   ]
  },
  {
   "cell_type": "markdown",
   "id": "68a1b16d",
   "metadata": {},
   "source": [
    "## Functions\n",
    "<span style=\"font-size:1.2em;\">A function is a code block that can peform specific actions and compute the result, if needed. We use functions to help modularize code. This means that if there are blocks of code that perform the same action, we can simply write the action once in a function and just call the function whenever we need to perform said action in our code. I will show an example of this later on.</span>"
   ]
  },
  {
   "cell_type": "markdown",
   "id": "4649b5fe",
   "metadata": {},
   "source": [
    "### Defining a function\n",
    "<span style=\"font-size:1.2em;\">In order to define a function, we use the **def** keyword followed by the name of the function. Additionally, we can provide a list of arguments in the parenthesis to pass to the function; however, this is optional. Arguments are values that are passed to a function in order for the function to perform a desired action.</span>"
   ]
  },
  {
   "cell_type": "code",
   "execution_count": 1,
   "id": "5e9c9265",
   "metadata": {},
   "outputs": [
    {
     "name": "stdout",
     "output_type": "stream",
     "text": [
      "8\n"
     ]
    }
   ],
   "source": [
    "def add(number1, number2):\n",
    "    return number1 + number2\n",
    "\n",
    "print(add(3, 5))"
   ]
  },
  {
   "cell_type": "code",
   "execution_count": 2,
   "id": "0622f80f",
   "metadata": {},
   "outputs": [
    {
     "name": "stdout",
     "output_type": "stream",
     "text": [
      "18\n"
     ]
    }
   ],
   "source": [
    "def quadratic(x):\n",
    "    result = 2*(x ** 2) + 3*x + 4\n",
    "    return result\n",
    "\n",
    "\n",
    "print(quadratic(2))"
   ]
  },
  {
   "cell_type": "markdown",
   "id": "aa956cba",
   "metadata": {},
   "source": [
    "<span style=\"font-size:1.2em;\">You can give default values to arguments in the function. This is helpful when you know that the user may not always provide a value for an argument, so the default is okay.</span>"
   ]
  },
  {
   "cell_type": "code",
   "execution_count": 3,
   "id": "dbb0bc70",
   "metadata": {},
   "outputs": [
    {
     "name": "stdout",
     "output_type": "stream",
     "text": [
      "Hello! My name is John. I am from Richmond and I am 30 years old.\n",
      "Hello! My name is Emily. I am from Murfreesboro and I am 26 years old.\n"
     ]
    }
   ],
   "source": [
    "def greeting(name=\"John\", town=\"Richmond\", age=30):\n",
    "    print(\"Hello! My name is %s. I am from %s and I am %d years old.\" % (name, town, age))\n",
    "    \n",
    "greeting()\n",
    "greeting(\"Emily\", \"Murfreesboro\", 26)"
   ]
  },
  {
   "cell_type": "code",
   "execution_count": null,
   "id": "79408c67",
   "metadata": {},
   "outputs": [],
   "source": []
  }
 ],
 "metadata": {
  "kernelspec": {
   "display_name": "Python 3 (ipykernel)",
   "language": "python",
   "name": "python3"
  },
  "language_info": {
   "codemirror_mode": {
    "name": "ipython",
    "version": 3
   },
   "file_extension": ".py",
   "mimetype": "text/x-python",
   "name": "python",
   "nbconvert_exporter": "python",
   "pygments_lexer": "ipython3",
   "version": "3.8.2"
  }
 },
 "nbformat": 4,
 "nbformat_minor": 5
}

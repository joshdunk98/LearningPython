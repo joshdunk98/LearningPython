{
 "cells": [
  {
   "cell_type": "markdown",
   "id": "6e599489",
   "metadata": {},
   "source": [
    "# Exercises\n",
    "<span style=\"font-size:1.2em;\">Solve the following problems based on the lesson **Introduction to Python - Data Types (part 1)**.</span>"
   ]
  },
  {
   "cell_type": "markdown",
   "id": "10a31c1d",
   "metadata": {},
   "source": [
    "## Numbers"
   ]
  },
  {
   "cell_type": "markdown",
   "id": "6e6f526e",
   "metadata": {},
   "source": [
    "### 1. Find the product of the remainder of 26 / 4 and the remainder of 12278 / 7"
   ]
  },
  {
   "cell_type": "code",
   "execution_count": null,
   "id": "76417db8",
   "metadata": {},
   "outputs": [],
   "source": [
    "def problem1():\n",
    "    \n",
    "    # Find the remainders of the two division problems here\n",
    "    r1 =\n",
    "    r2 =\n",
    "    \n",
    "    # Find the product of the two remainders here\n",
    "    product = \n",
    "    \n",
    "    # Do not modify anything past this point\n",
    "    return product\n",
    "\n",
    "print(problem1())"
   ]
  },
  {
   "cell_type": "markdown",
   "id": "f55f524d",
   "metadata": {},
   "source": [
    "### 2. Given triangle ABC, find the height of the triangle if the area is equal to 21 and the base is equal to 7"
   ]
  },
  {
   "cell_type": "code",
   "execution_count": null,
   "id": "08e228d4",
   "metadata": {},
   "outputs": [],
   "source": [
    "def problem2():\n",
    "    area = 21\n",
    "    base = 7\n",
    "    \n",
    "    # Find the height of the triangle here\n",
    "    height =\n",
    "    \n",
    "    \n",
    "    # Do not modify anything past this point\n",
    "    return height\n",
    "    \n",
    "print(problem2())"
   ]
  },
  {
   "cell_type": "markdown",
   "id": "89aa0668",
   "metadata": {},
   "source": [
    "### 3. For the following expression, raise all the **x**'s to a power of 2 and raise all the **y**'s to a power of 1/2"
   ]
  },
  {
   "cell_type": "code",
   "execution_count": null,
   "id": "987d5527",
   "metadata": {},
   "outputs": [],
   "source": [
    "def problem3():\n",
    "    \n",
    "    # Modify the x's and y's to be raised to the power of 2 and 1/2, respectively\n",
    "    expression = 5*(x) + 2*(y) - 3*(x) - 4*(y) + 10  \n",
    "    \n",
    "    \n",
    "    # Do not modify anything past this point\n",
    "    return expression\n",
    "\n",
    "print(problem3())"
   ]
  },
  {
   "cell_type": "markdown",
   "id": "389fda13",
   "metadata": {},
   "source": [
    "## Booleans"
   ]
  },
  {
   "cell_type": "markdown",
   "id": "e5243797",
   "metadata": {},
   "source": [
    "### 1. Given the following variables and expressions, write the resulting truth value (True or False) of each expression"
   ]
  },
  {
   "cell_type": "markdown",
   "id": "1e6a462d",
   "metadata": {},
   "source": [
    "Given **a**=10, **b**=15, **c**=-2, **d**=\"a\", **e**=\"B\", and **f**=\"15\", find the truth values of the following:\n",
    "\n",
    "\n",
    "- **a** < **b**"
   ]
  },
  {
   "cell_type": "markdown",
   "id": "35ab4303",
   "metadata": {},
   "source": []
  },
  {
   "cell_type": "markdown",
   "id": "362903ed",
   "metadata": {},
   "source": [
    "- **c** > **a**"
   ]
  },
  {
   "cell_type": "markdown",
   "id": "a81f3d12",
   "metadata": {},
   "source": []
  },
  {
   "cell_type": "markdown",
   "id": "90d66abc",
   "metadata": {},
   "source": [
    "- **d** == **e**"
   ]
  },
  {
   "cell_type": "markdown",
   "id": "6829f55d",
   "metadata": {},
   "source": []
  },
  {
   "cell_type": "markdown",
   "id": "d349ed4a",
   "metadata": {},
   "source": [
    "- **d** < **e**"
   ]
  },
  {
   "cell_type": "markdown",
   "id": "ebb7c515",
   "metadata": {},
   "source": []
  },
  {
   "cell_type": "markdown",
   "id": "5fa8c40a",
   "metadata": {},
   "source": [
    "- **b** != **f**"
   ]
  },
  {
   "cell_type": "markdown",
   "id": "d2a994c4",
   "metadata": {},
   "source": []
  },
  {
   "cell_type": "markdown",
   "id": "f562cfa4",
   "metadata": {},
   "source": [
    "### 2. What two numbers represent **True** or **False** in Python? Specify which one is which"
   ]
  },
  {
   "cell_type": "markdown",
   "id": "db4cff8c",
   "metadata": {},
   "source": []
  },
  {
   "cell_type": "markdown",
   "id": "0487af66",
   "metadata": {},
   "source": [
    "## Strings"
   ]
  },
  {
   "cell_type": "markdown",
   "id": "74189286",
   "metadata": {},
   "source": [
    "### 1. Given multiple strings, use string manipulation to do the following:\n",
    "\n",
    " - Concatenate strings **A** and **B** together, and store the result in a new variable (print out the result)"
   ]
  },
  {
   "cell_type": "code",
   "execution_count": null,
   "id": "369a99db",
   "metadata": {},
   "outputs": [],
   "source": [
    "A = \"Call me Ishmael. Some \"\n",
    "B = \"years ago - never mind how long precisely\"\n",
    "\n",
    "# Write your code below\n"
   ]
  },
  {
   "cell_type": "markdown",
   "id": "c68b1e13",
   "metadata": {},
   "source": [
    " - Join strings **C**, **D**, and **E** together using an ampersand (**&**), and store the result in a new variable (print out the result)"
   ]
  },
  {
   "cell_type": "code",
   "execution_count": null,
   "id": "0e0c21e8",
   "metadata": {},
   "outputs": [],
   "source": [
    "C = \"There now is\"\n",
    "D = \"your insular city\"\n",
    "E = \"of Manhattoes...\"\n",
    "\n",
    "#Write your code below\n"
   ]
  },
  {
   "cell_type": "markdown",
   "id": "7698e6fc",
   "metadata": {},
   "source": [
    " - Convert the concatenated string from above to all lower case, and store the result in a new variable (print out the result)"
   ]
  },
  {
   "cell_type": "code",
   "execution_count": null,
   "id": "a726cc68",
   "metadata": {},
   "outputs": [],
   "source": [
    "# Write your code below\n"
   ]
  },
  {
   "cell_type": "markdown",
   "id": "551532b3",
   "metadata": {},
   "source": [
    " - Use slicing to return a substring of string **F** from the 3<sup>rd</sup> character to the 13<sup>th</sup>, inclusive (print out the result)"
   ]
  },
  {
   "cell_type": "code",
   "execution_count": null,
   "id": "72fa85b2",
   "metadata": {},
   "outputs": [],
   "source": [
    "F = \"aiHelloWorld!nbo;er&*$%^#\"\n",
    "\n",
    "#Write your code below\n"
   ]
  },
  {
   "cell_type": "markdown",
   "id": "995ab518",
   "metadata": {},
   "source": [
    "### 2. Using string formatting, output the greeting \"Hello _. I'm doctor _. You BMI score was _. That's a little high for someone who weights _ lbs and has a height of _ inches.\""
   ]
  },
  {
   "cell_type": "code",
   "execution_count": null,
   "id": "d981bd45",
   "metadata": {},
   "outputs": [],
   "source": [
    "name = \"John\"\n",
    "doctor = \"Edward\"\n",
    "BMI = 225.4\n",
    "weight = 230\n",
    "height = 72\n",
    "\n",
    "# Write your code below\n",
    "greeting = \"\" % ()\n",
    "\n",
    "\n",
    "# Do not modify anything past this point\n",
    "print(greeting)"
   ]
  },
  {
   "cell_type": "markdown",
   "id": "c46aacdf",
   "metadata": {},
   "source": [
    "## Lists"
   ]
  },
  {
   "cell_type": "markdown",
   "id": "e2996146",
   "metadata": {},
   "source": [
    "### 1. Given the following shopping list **[\"apples\", \"milk\", \"bananas\", \"crackers\", \"cheese\", \"juice\", \"dog food\", \"cat food\"]** , perform the following:\n",
    "\n",
    "- Add \"lunch meat\", \"fish\", and \"blueberries\" to the shopping list"
   ]
  },
  {
   "cell_type": "code",
   "execution_count": null,
   "id": "f5af481b",
   "metadata": {},
   "outputs": [],
   "source": [
    "shopping_list = [\"apples\", \"milk\", \"bananas\", \"crackers\", \\\n",
    "                 \"cheese\", \"juice\", \"dog food\", \"cat food\"]\n",
    "\n",
    "# Write your code below\n"
   ]
  },
  {
   "cell_type": "markdown",
   "id": "1f20a32d",
   "metadata": {},
   "source": [
    "- Remove \"milk\" and \"cheese\" from the shopping list"
   ]
  },
  {
   "cell_type": "code",
   "execution_count": null,
   "id": "454a4241",
   "metadata": {},
   "outputs": [],
   "source": [
    "# Write your code below\n"
   ]
  },
  {
   "cell_type": "markdown",
   "id": "9f45ea25",
   "metadata": {},
   "source": [
    " - Print the first, fourth, and fifth items in the shopping list "
   ]
  },
  {
   "cell_type": "code",
   "execution_count": null,
   "id": "f495b5c5",
   "metadata": {},
   "outputs": [],
   "source": [
    "# Write your code below\n"
   ]
  },
  {
   "cell_type": "markdown",
   "id": "41a5450d",
   "metadata": {},
   "source": [
    " - Use slicing to print out the 2<sup>nd</sup> through 6<sup>th</sup> items (inclusive)"
   ]
  },
  {
   "cell_type": "code",
   "execution_count": null,
   "id": "9b9f24ef",
   "metadata": {},
   "outputs": [],
   "source": [
    "# Write your code below\n"
   ]
  },
  {
   "cell_type": "markdown",
   "id": "0e3cc64d",
   "metadata": {},
   "source": [
    " - Combine the current shopping list with another shopping list. Store the result in a new variable and print the result."
   ]
  },
  {
   "cell_type": "code",
   "execution_count": null,
   "id": "30cbbc0b",
   "metadata": {},
   "outputs": [],
   "source": [
    "new_shopping_list = [\"beer\", \"chips\", \"salsa\"]\n",
    "\n",
    "# Write your code below\n"
   ]
  }
 ],
 "metadata": {
  "kernelspec": {
   "display_name": "Python 3 (ipykernel)",
   "language": "python",
   "name": "python3"
  },
  "language_info": {
   "codemirror_mode": {
    "name": "ipython",
    "version": 3
   },
   "file_extension": ".py",
   "mimetype": "text/x-python",
   "name": "python",
   "nbconvert_exporter": "python",
   "pygments_lexer": "ipython3",
   "version": "3.8.2"
  }
 },
 "nbformat": 4,
 "nbformat_minor": 5
}

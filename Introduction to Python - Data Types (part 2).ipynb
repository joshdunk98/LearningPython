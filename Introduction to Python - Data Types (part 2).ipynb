{
 "cells": [
  {
   "cell_type": "markdown",
   "id": "e793bdfc",
   "metadata": {},
   "source": [
    "# Learning the Basics with Python (part 3)"
   ]
  },
  {
   "cell_type": "markdown",
   "id": "0a234e9b",
   "metadata": {},
   "source": [
    "## Part 1: Data Types (cont'd)\n",
    "<span style=\"font-size:1.2em;\">In the last lesson, we were introduced to data types. Remember: data types tell the computer how to interpret a variable's value. Previously, we learned about numbers, booleans, strings, and lists. This week we will discuss tuples, dictionaries, sets, and classes.The first three are data types built into Python. Classes are user-defined data types, but we will discuss more later in the lesson.</span>"
   ]
  },
  {
   "cell_type": "markdown",
   "id": "3854eedf",
   "metadata": {},
   "source": [
    "## Part 2: Tuples\n",
    "<span style=\"font-size:1.2em;\"> In the last lesson, we introduced lists. As you may remember, lists are mutable arrays. Tuples are pretty much the exact same thing; HOWEVER, they are immutable, meaning that once you define a tuple, you cannot manipulate its size or contents.</span>"
   ]
  },
  {
   "cell_type": "code",
   "execution_count": 4,
   "id": "84188490",
   "metadata": {},
   "outputs": [
    {
     "name": "stdout",
     "output_type": "stream",
     "text": [
      "(0, 1)\n"
     ]
    }
   ],
   "source": [
    "# Initialize a tuple with two elements -> similar to how you would create a list\n",
    "x = (0 , 1)\n",
    "print(x)"
   ]
  },
  {
   "cell_type": "code",
   "execution_count": 5,
   "id": "6f96443a",
   "metadata": {},
   "outputs": [
    {
     "ename": "TypeError",
     "evalue": "'tuple' object does not support item assignment",
     "output_type": "error",
     "traceback": [
      "\u001b[1;31m---------------------------------------------------------------------------\u001b[0m",
      "\u001b[1;31mTypeError\u001b[0m                                 Traceback (most recent call last)",
      "\u001b[1;32m~\\AppData\\Local\\Temp/ipykernel_22496/2413302937.py\u001b[0m in \u001b[0;36m<module>\u001b[1;34m\u001b[0m\n\u001b[0;32m      1\u001b[0m \u001b[1;31m# By running this code block, you will get an assignment error\u001b[0m\u001b[1;33m\u001b[0m\u001b[1;33m\u001b[0m\u001b[1;33m\u001b[0m\u001b[0m\n\u001b[1;32m----> 2\u001b[1;33m \u001b[0mx\u001b[0m\u001b[1;33m[\u001b[0m\u001b[1;36m0\u001b[0m\u001b[1;33m]\u001b[0m \u001b[1;33m=\u001b[0m \u001b[1;36m2\u001b[0m\u001b[1;33m\u001b[0m\u001b[1;33m\u001b[0m\u001b[0m\n\u001b[0m\u001b[0;32m      3\u001b[0m \u001b[0mprint\u001b[0m\u001b[1;33m(\u001b[0m\u001b[0mx\u001b[0m\u001b[1;33m)\u001b[0m\u001b[1;33m\u001b[0m\u001b[1;33m\u001b[0m\u001b[0m\n",
      "\u001b[1;31mTypeError\u001b[0m: 'tuple' object does not support item assignment"
     ]
    }
   ],
   "source": [
    "# By running this code block, you will get an assignment error\n",
    "x[0] = 2\n",
    "print(x)"
   ]
  },
  {
   "cell_type": "markdown",
   "id": "c2c16338",
   "metadata": {},
   "source": [
    "<span style=\"font-size:1.2em;\">Other than that, tuples are pretty much like lists. You can assign them in a similar way (we use parentheses **()** or **tuple()** to create a tuple) and access elements by indexing into the tuple.</span>"
   ]
  },
  {
   "cell_type": "code",
   "execution_count": 7,
   "id": "8188a1af",
   "metadata": {},
   "outputs": [
    {
     "name": "stdout",
     "output_type": "stream",
     "text": [
      "()\n",
      "()\n",
      "('x', 1, 'hello world', [0, 1], (2, 3))\n"
     ]
    }
   ],
   "source": [
    "# The following two lines of code create empty tuples\n",
    "empty_tuple = ()\n",
    "empty_tuple_2 = tuple()\n",
    "print(empty_tuple)\n",
    "print(empty_tuple_2)\n",
    "\n",
    "# This line creates a populated tuple of various objects\n",
    "regular_tuple = ('x', 1, 'hello world', [0, 1], (2, 3))\n",
    "print(regular_tuple)"
   ]
  },
  {
   "cell_type": "markdown",
   "id": "4d2810f7",
   "metadata": {},
   "source": [
    "## Part 3: Dictionaries"
   ]
  },
  {
   "cell_type": "markdown",
   "id": "adebdb0f",
   "metadata": {},
   "source": [
    "## Part 4: Sets"
   ]
  },
  {
   "cell_type": "markdown",
   "id": "fcaa3c70",
   "metadata": {},
   "source": [
    "## Part 5: Classes"
   ]
  },
  {
   "cell_type": "code",
   "execution_count": null,
   "id": "9789b47e",
   "metadata": {},
   "outputs": [],
   "source": []
  }
 ],
 "metadata": {
  "kernelspec": {
   "display_name": "Python 3 (ipykernel)",
   "language": "python",
   "name": "python3"
  },
  "language_info": {
   "codemirror_mode": {
    "name": "ipython",
    "version": 3
   },
   "file_extension": ".py",
   "mimetype": "text/x-python",
   "name": "python",
   "nbconvert_exporter": "python",
   "pygments_lexer": "ipython3",
   "version": "3.8.2"
  }
 },
 "nbformat": 4,
 "nbformat_minor": 5
}

{
 "cells": [
  {
   "cell_type": "markdown",
   "id": "8e6d2c06",
   "metadata": {},
   "source": [
    "# Learning the Basics of Python"
   ]
  },
  {
   "cell_type": "markdown",
   "id": "8a10f876",
   "metadata": {},
   "source": [
    "<span style=\"font-size:1.2em;\">Welcome! You are about to start your journey into the world of Python. However, before we get started, let's talk about about Python. What is Python? Python is a high-level, interpreted programming language. It's free to use, open-source, versastile, and extremely powerful. Ranging from web and app development to machine learning, Python is the most widely used programming language in the world. For more information, visit https://realpython.com/python-first-steps/ </span>"
   ]
  },
  {
   "cell_type": "markdown",
   "id": "2b53ee5a",
   "metadata": {},
   "source": [
    "## Part 1: Hello World\n",
    "<span style=\"font-size:1.2em;\">In the interactive code block below, type in the following: **print(\"Hello World\")**. Once you are done, press Shift+Enter. </span>"
   ]
  },
  {
   "cell_type": "code",
   "execution_count": null,
   "id": "7bd3d126",
   "metadata": {},
   "outputs": [],
   "source": []
  },
  {
   "cell_type": "markdown",
   "id": "d10318fd",
   "metadata": {},
   "source": [
    "Congratulations! You have just written your first program in Python."
   ]
  },
  {
   "cell_type": "markdown",
   "id": "12d2978d",
   "metadata": {},
   "source": [
    "## Part 2: Comments"
   ]
  },
  {
   "cell_type": "markdown",
   "id": "353d4320",
   "metadata": {},
   "source": [
    "<span style=\"font-size:1.2em;\">Comments are pieces of text within your code that is ignored by the interpreter or compiler. These comments are not executed, but are mainly used for providing more information about the code itself. They help other developers and even you understand what is going on in your code. In all programming languages, comments have to prefaced with a special tag to indicate that you are writing a comment. In Python, that tag is the hash mark (**#**). Try writing a comment in the code block below. </span>"
   ]
  },
  {
   "cell_type": "code",
   "execution_count": null,
   "id": "4981c57f",
   "metadata": {},
   "outputs": [],
   "source": []
  },
  {
   "cell_type": "markdown",
   "id": "7a19db97",
   "metadata": {},
   "source": [
    "<span style=\"font-size:1.2em;\">Great! Along with making single comments, you can also make block comments.</span>\n",
    "    \n",
    "<span style=\"font-size:1.2em;\">    Block comments are just comments that take up two or more lines in your code. \n",
    "    To make block comments, you can just use the hash mark for every new line that you write on: </span> \n",
    "    \n",
    "    # This is a comment \n",
    "    # This is also a comment\n",
    "    \n",
    "<span style=\"font-size:1.2em;\">You can also use a triple double quotation. You only have to specify the triple quotation once and then write your comments in between the quotes:</span>\n",
    "    \n",
    "    \"\"\"\n",
    "        This is a\n",
    "        multi-line comment\n",
    "    \"\"\"\n",
    "    \n",
    "<span style=\"font-size:1.2em;\">Try to write a block comment using multiple hash marks and triple double quotations. </span>"
   ]
  },
  {
   "cell_type": "code",
   "execution_count": null,
   "id": "201b9759",
   "metadata": {},
   "outputs": [],
   "source": []
  },
  {
   "cell_type": "markdown",
   "id": "42c6b542",
   "metadata": {},
   "source": [
    "<span style=\"font-size:1.2em;\">A final note about comments is that you can write in-line comments. In-line comments are comments written on the same line as a piece of code.</span>\n",
    "\n",
    "x = \"booty\" ***#The variable x represents the string 'booty'***\n",
    "\n",
    "<span style=\"font-size:1.2em;\">These can be used to help provide a more specific description of the piece of code on that line, but use them sparingly as they can also take up space and make your code look messy.</span>"
   ]
  },
  {
   "cell_type": "markdown",
   "id": "3757175e",
   "metadata": {},
   "source": [
    "## Part 3: Variables\n",
    "<span style=\"font-size:1.2em;\">In algebra, variables represent values of items that are unknown. In Python, variables are used to represent any piece of information that we know or have yet to know. Variables are always associated with a particular object. When we declare a variable, it becomes a reference, or a pointer, to the memory address in which that object is stored in the computer. Once you initialize a variable to an object, you can access that object by simply calling the variable's name in your code. Variable initialization is as follows:</span>"
   ]
  },
  {
   "cell_type": "code",
   "execution_count": null,
   "id": "74ebe53f",
   "metadata": {},
   "outputs": [],
   "source": [
    "x = 10\n",
    "y = 1.2345\n",
    "sentence = \"hello world\""
   ]
  },
  {
   "cell_type": "markdown",
   "id": "602bbd49",
   "metadata": {},
   "source": [
    "<span style=\"font-size:1.2em;\">Don't think that variables are limited to just storing numbers and strings. They can store any data type and object that you can think of. We'll cover data types in a later lesson, but just know that flexibility you have when it comes to storing variables. </span>"
   ]
  },
  {
   "cell_type": "code",
   "execution_count": null,
   "id": "5a62bba5",
   "metadata": {},
   "outputs": [],
   "source": [
    "siblings = [\"Josh\", \"Emily\", \"Jamie\"]  # Lists\n",
    "book = {\"Chapter 1\": 0, \"Chapter 2\": 19}  # Dictionaries\n",
    "shopping_list = ('apples', 'oranges', 'bananas')  # Tuples"
   ]
  },
  {
   "cell_type": "markdown",
   "id": "b82aefe1",
   "metadata": {},
   "source": [
    "<span style=\"font-size:1.2em;\">A final note about variables is that naming convention matters. In Python, there are built-in keywords that represent global variables and functions that are built into the programming language. Variables cannot have the same name as these keywords (we will discuss some of these keywords in the next section). Additionally, your variable names cannot contain special characters or start with a number. For example, **&variable** and **2day** would be invalid variable names. Your variable names can only consist of uppercase and lowercase letters(A-Z, a-z), digits(0-9), and/or an underscore(_)."
   ]
  },
  {
   "cell_type": "markdown",
   "id": "afade1e7",
   "metadata": {},
   "source": [
    "## Part 4: Keywords\n",
    "<span style=\"font-size:1.2em;\">As mentioned before, keywords are special words that are pre-built into the syntax of a programming language. If you want to find out which keywords Python uses, run the following code block below.</span>"
   ]
  },
  {
   "cell_type": "code",
   "execution_count": null,
   "id": "25ed9077",
   "metadata": {},
   "outputs": [],
   "source": [
    "help('keywords')"
   ]
  },
  {
   "cell_type": "markdown",
   "id": "aca42111",
   "metadata": {},
   "source": [
    "<span style=\"font-size:1.2em;\">For more information about what each keyword does, you view the documentation at the official Python website. If you want to be proficient or an expert in Python, it's good to know what all the keywords mean. However, we will only be focusing on a subset of these keywords for the basics. The following keywords are what we will discuss in later lessons:\n",
    "\n",
    "    -True/False\n",
    "    -None\n",
    "    -and/or\n",
    "    -as\n",
    "    -break\n",
    "    -class\n",
    "    -continue\n",
    "    -def\n",
    "    -if/elif/else\n",
    "    -try/except/finally\n",
    "    -raise\n",
    "    -for/while\n",
    "    -import\n",
    "    -in\n",
    "    -is\n",
    "    -not\n",
    "    -with\n",
    "    -return\n",
    "    -pass\n",
    "</span>"
   ]
  },
  {
   "cell_type": "code",
   "execution_count": null,
   "id": "368b244f",
   "metadata": {},
   "outputs": [],
   "source": []
  }
 ],
 "metadata": {
  "kernelspec": {
   "display_name": "Python 3 (ipykernel)",
   "language": "python",
   "name": "python3"
  },
  "language_info": {
   "codemirror_mode": {
    "name": "ipython",
    "version": 3
   },
   "file_extension": ".py",
   "mimetype": "text/x-python",
   "name": "python",
   "nbconvert_exporter": "python",
   "pygments_lexer": "ipython3",
   "version": "3.8.2"
  }
 },
 "nbformat": 4,
 "nbformat_minor": 5
}

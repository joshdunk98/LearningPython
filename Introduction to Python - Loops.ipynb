{
 "cells": [
  {
   "cell_type": "markdown",
   "id": "8cfa2e01",
   "metadata": {},
   "source": [
    "# Learning the Basics with Python (part 6)"
   ]
  },
  {
   "cell_type": "markdown",
   "id": "95b508c9",
   "metadata": {},
   "source": [
    "## Loops\n",
    "<span style=\"font-size:1.2em;\">A loop is a way to traverse through an iterable. Iterables are objects that can be looped through, such as lists, dictionaries, strings, etc. Think of when you go to a streaming site and you can go through the list of movies within a category. On the Netflix home page, they have a list of movies/shows that you can continue watching. In order to see previous entries of movies/shows you watched in the past, you have to loop through that list until you get to the earliest entry. </span>\n",
    "\n",
    "<span style=\"font-size:1.2em;\">In this lesson, we will learn about two types of loops: **for** loops and **while** loops.</span>"
   ]
  },
  {
   "cell_type": "markdown",
   "id": "d2f48f6d",
   "metadata": {},
   "source": [
    "### While loop"
   ]
  },
  {
   "cell_type": "markdown",
   "id": "9d6be183",
   "metadata": {},
   "source": [
    "### For loop"
   ]
  },
  {
   "cell_type": "code",
   "execution_count": null,
   "id": "dce33496",
   "metadata": {},
   "outputs": [],
   "source": []
  }
 ],
 "metadata": {
  "kernelspec": {
   "display_name": "Python 3 (ipykernel)",
   "language": "python",
   "name": "python3"
  },
  "language_info": {
   "codemirror_mode": {
    "name": "ipython",
    "version": 3
   },
   "file_extension": ".py",
   "mimetype": "text/x-python",
   "name": "python",
   "nbconvert_exporter": "python",
   "pygments_lexer": "ipython3",
   "version": "3.8.2"
  }
 },
 "nbformat": 4,
 "nbformat_minor": 5
}

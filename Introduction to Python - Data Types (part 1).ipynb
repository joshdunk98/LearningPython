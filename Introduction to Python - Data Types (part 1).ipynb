{
 "cells": [
  {
   "cell_type": "markdown",
   "id": "06b3b910",
   "metadata": {},
   "source": [
    "# Learning the Basics with Python (part 2)"
   ]
  },
  {
   "cell_type": "markdown",
   "id": "87427d82",
   "metadata": {},
   "source": [
    "## Part 1: Data Types"
   ]
  },
  {
   "cell_type": "markdown",
   "id": "82c08929",
   "metadata": {},
   "source": [
    "<span style=\"font-size:1.2em;\">A data type is a classification that tells the computer how to interpret the value of a variable. For example, if we declared a variable named **name** and stored the string \"Emily\" in there, the computer would interpret **word** to be of the data type *string*.</span>\n",
    "\n",
    "<span style=\"font-size:1.2em;\">Understanding data types is beneficial to writing your code. You must understand a variable's data type to know how to manipulate it and when to use it in a program. In this lesson, we will be covering all of the built-in data types in Python from integers to sets. We will also cover how to create custom objects, such as classes, in Python.\n",
    "</span> "
   ]
  },
  {
   "cell_type": "markdown",
   "id": "d7f234de",
   "metadata": {},
   "source": [
    "## Part 2: Numbers"
   ]
  },
  {
   "cell_type": "markdown",
   "id": "83f9f6df",
   "metadata": {},
   "source": [
    "### Part 2a: Integers\n",
    "\n",
    "<span style=\"font-size:1.2em;\"> Integers are whole numbers. The value of an integer can range from -2,147,483,684 $\\le$ x $\\le$ 2,147,483,684. However, since we are using Python, integers have infinite precision. This simply means that as long as the number is a whole number, you can make it as big or small as you want!</span> "
   ]
  },
  {
   "cell_type": "code",
   "execution_count": null,
   "id": "1642b7ac",
   "metadata": {},
   "outputs": [],
   "source": [
    "x = 10\n",
    "y = -4000000000000000000\n",
    "print(x, y)\n",
    "type(y)  # type() is a built-in function in Python that checks a variables data type"
   ]
  },
  {
   "cell_type": "markdown",
   "id": "8ec2afa1",
   "metadata": {},
   "source": [
    "<span style=\"font-size:1.2em;\"> Since Python is an interpreted language, the computer will know how to interpret the value of a variable once you give it a value. If you specify that **x=2**, the computer knows that **x** is an integer. However, what if **x** was equal to \"2\" instead? The computer registers it as a string, but what if you want to use it as a number instead?Introducing type-casting.</span>\n",
    "\n",
    "<span style=\"font-size:1.2em;\"> Type-casting is the process of changing a data type of a variable to another data type. Usually, this process involves type-casting a string to a number or vice versa. If we wanted to type-cast our string from earlier to an integer, we would use the **int()** function. In order to use the function, all you need to do is specify the string you want to type-cast within the parenthesis and that's it! ***NOTE: This does not work if the string uses alpha (A-z,a-z) or special characters. The string must be a representation of an integer***.</span>"
   ]
  },
  {
   "cell_type": "code",
   "execution_count": null,
   "id": "6690d9b1",
   "metadata": {},
   "outputs": [],
   "source": [
    "int_x = int(\"2\")\n",
    "print(int_x)\n",
    "type(int_x)"
   ]
  },
  {
   "cell_type": "code",
   "execution_count": null,
   "id": "0e0a242c",
   "metadata": {},
   "outputs": [],
   "source": [
    "# We will learn about try/except/finally in future lessons\n",
    "# All you need to know is that they can cleanly handle errors\n",
    "try:\n",
    "    int_x = int(\"booty\")  # This will cause an error\n",
    "except:\n",
    "    print(\"Error: invalid string. String must represent a number.\")"
   ]
  },
  {
   "cell_type": "markdown",
   "id": "d85e2f0b",
   "metadata": {},
   "source": [
    "### Part 2b: Floating-point (a.k.a. Decimals)\n",
    "<span style=\"font-size:1.2em;\"> Floating-points are numbers with decimals. The max floating-point number you can have in Python is **1.7976931348623157e+308**. While you may never need to use a number that large (hopefully) you will never have to worry about memory issues when handling floating-point numbers in your average program. If you want to type-cast, you can call the **float()** function.</span>"
   ]
  },
  {
   "cell_type": "code",
   "execution_count": null,
   "id": "de5c924c",
   "metadata": {},
   "outputs": [],
   "source": [
    "x = 1.2345\n",
    "print(x)\n",
    "type(x)"
   ]
  },
  {
   "cell_type": "code",
   "execution_count": null,
   "id": "2a884275",
   "metadata": {},
   "outputs": [],
   "source": [
    "float_x = float(\"1.2345\")\n",
    "print(float_x)\n",
    "type(float_x)"
   ]
  },
  {
   "cell_type": "markdown",
   "id": "90effee6",
   "metadata": {},
   "source": [
    "### Part 2c: Complex\n",
    "<span style=\"font-size:1.2em;\"> Complex numbers are numbers comprised of real and imaginary numbers (**a** + **b** ***i***). They are hardly used in most fields, but it's still good to know what they are and how to create them. In order to create complex numbers, you must call the **complex()** function.</span>"
   ]
  },
  {
   "cell_type": "code",
   "execution_count": null,
   "id": "d19d7e0d",
   "metadata": {},
   "outputs": [],
   "source": [
    "abi = complex(1, 2)  # 1 is the real number and 2 is the imaginary\n",
    "abi_string = complex(\"1+2j\")  # j represents the imaginary number i in Python"
   ]
  },
  {
   "cell_type": "markdown",
   "id": "40098c0d",
   "metadata": {},
   "source": [
    "### Part 2d: Operators"
   ]
  },
  {
   "cell_type": "markdown",
   "id": "10aacf9f",
   "metadata": {},
   "source": [
    "<span style=\"font-size:1.2em;\"> You can perform various mathematical operations in Python. Below is the list of operations that you need to know: </span>"
   ]
  },
  {
   "cell_type": "markdown",
   "id": "d41e2e6d",
   "metadata": {},
   "source": [
    "#### Unary Positive & Unary Negation"
   ]
  },
  {
   "cell_type": "code",
   "execution_count": null,
   "id": "c906354f",
   "metadata": {},
   "outputs": [],
   "source": [
    "a = 5\n",
    "print(+a)  # unary positve (+) -> doesn't really do anything\n",
    "print(-a)  # unary negation (-) -> negates or flips the sign of a number"
   ]
  },
  {
   "cell_type": "markdown",
   "id": "22e5d15d",
   "metadata": {},
   "source": [
    "#### Addition ( + )"
   ]
  },
  {
   "cell_type": "code",
   "execution_count": null,
   "id": "7ba01395",
   "metadata": {},
   "outputs": [],
   "source": [
    "b = 12\n",
    "a + b  # Takes the sum of and b"
   ]
  },
  {
   "cell_type": "markdown",
   "id": "5221196b",
   "metadata": {},
   "source": [
    "#### Subtraction ( - )"
   ]
  },
  {
   "cell_type": "code",
   "execution_count": null,
   "id": "b4d472ee",
   "metadata": {},
   "outputs": [],
   "source": [
    "b - a  # Takes the value of b subtracted from a"
   ]
  },
  {
   "cell_type": "markdown",
   "id": "578f67c1",
   "metadata": {},
   "source": [
    "#### Multiplication ( * )"
   ]
  },
  {
   "cell_type": "code",
   "execution_count": null,
   "id": "e2047445",
   "metadata": {},
   "outputs": [],
   "source": [
    "a * b  # Takes the product of a and b"
   ]
  },
  {
   "cell_type": "markdown",
   "id": "510173b8",
   "metadata": {},
   "source": [
    "#### Division ( / )"
   ]
  },
  {
   "cell_type": "code",
   "execution_count": null,
   "id": "ae697d7d",
   "metadata": {},
   "outputs": [],
   "source": [
    "a / b  # Takes the quotient when a is divided by b"
   ]
  },
  {
   "cell_type": "markdown",
   "id": "df5c46cc",
   "metadata": {},
   "source": [
    "#### Modulo ( % )"
   ]
  },
  {
   "cell_type": "code",
   "execution_count": null,
   "id": "5d84a990",
   "metadata": {},
   "outputs": [],
   "source": [
    "b % a  # Gives the remainder of b divided by a"
   ]
  },
  {
   "cell_type": "markdown",
   "id": "72f2e8e4",
   "metadata": {},
   "source": [
    "#### Floor Division ( // )"
   ]
  },
  {
   "cell_type": "code",
   "execution_count": null,
   "id": "4af4881d",
   "metadata": {},
   "outputs": [],
   "source": [
    "b // a  # If b divided by a is a decimal, rounds down to the next whole number"
   ]
  },
  {
   "cell_type": "markdown",
   "id": "6fd805c2",
   "metadata": {},
   "source": [
    "#### Exponentiation ( ** )"
   ]
  },
  {
   "cell_type": "code",
   "execution_count": null,
   "id": "3305abe1",
   "metadata": {},
   "outputs": [],
   "source": [
    "a ** 3  # Raises a to the power of 3"
   ]
  },
  {
   "cell_type": "markdown",
   "id": "964a69f2",
   "metadata": {},
   "source": [
    "## Part 2: Booleans"
   ]
  },
  {
   "cell_type": "markdown",
   "id": "7380a1cb",
   "metadata": {},
   "source": [
    "<span style=\"font-size:1.2em;\"> Booleans are a subclass of integers with only two possible values: True (1) or False (0). Booleans are used to express the truth in some statement or expression. They come in handy when you create predicate functions or when you are dealing with conditional operators. Comparison operators compare the values of variables and can help to evaluate whether a given expression is True or False. Below is a list of the comparison operators used in Python.</span>"
   ]
  },
  {
   "cell_type": "markdown",
   "id": "efb19b94",
   "metadata": {},
   "source": [
    "#### Equal to ( == )"
   ]
  },
  {
   "cell_type": "code",
   "execution_count": null,
   "id": "4e89e8ad",
   "metadata": {},
   "outputs": [],
   "source": [
    "a = 2\n",
    "b = 3\n",
    "c = 2\n",
    "\n",
    "print(a == b)  # Results in False because 2 does not equal 3\n",
    "print(a == c)  # Results in True because 2 equals 2"
   ]
  },
  {
   "cell_type": "markdown",
   "id": "7cb6bf39",
   "metadata": {},
   "source": [
    "#### Not equal to ( != )"
   ]
  },
  {
   "cell_type": "code",
   "execution_count": null,
   "id": "b8c2f8bd",
   "metadata": {},
   "outputs": [],
   "source": [
    "print(a != b)  # Results in True because 2 does not equal 3\n",
    "print(a != c)  # Results in False because 2 equals 2"
   ]
  },
  {
   "cell_type": "markdown",
   "id": "338bfd23",
   "metadata": {},
   "source": [
    "#### Less than ( < )"
   ]
  },
  {
   "cell_type": "code",
   "execution_count": null,
   "id": "a8579795",
   "metadata": {},
   "outputs": [],
   "source": [
    "d = 1\n",
    "\n",
    "print(a < b)  # Results in True because 2 is less than 3\n",
    "print(a < c)  # Results in False because 2 is not less than 2\n",
    "print(a < d)  # Results in False because 2 is not less than 1"
   ]
  },
  {
   "cell_type": "markdown",
   "id": "7b3a1df8",
   "metadata": {},
   "source": [
    "#### Less than or equal to ( <= )"
   ]
  },
  {
   "cell_type": "code",
   "execution_count": null,
   "id": "93fd5643",
   "metadata": {},
   "outputs": [],
   "source": [
    "print(a <= b)  # Results in True because 2 is less than or equal to 3\n",
    "print(a <= c)  # Results in True because 2 is less than or equal to 2\n",
    "print(a <= d)  # Results in False because 2 is not less than or equal to 1"
   ]
  },
  {
   "cell_type": "markdown",
   "id": "6351402f",
   "metadata": {},
   "source": [
    "#### Greater than ( > )"
   ]
  },
  {
   "cell_type": "code",
   "execution_count": null,
   "id": "3dc0ec74",
   "metadata": {},
   "outputs": [],
   "source": [
    "print(a > b)  # Results in False because 2 is not greater than 3\n",
    "print(a > c)  # Results in False because 2 is not greater than 2\n",
    "print(a > d)  # Results in True because 2 is greater than 1"
   ]
  },
  {
   "cell_type": "markdown",
   "id": "2cc51256",
   "metadata": {},
   "source": [
    "#### Greater than or equal to ( >= )"
   ]
  },
  {
   "cell_type": "code",
   "execution_count": null,
   "id": "f81d2f1a",
   "metadata": {},
   "outputs": [],
   "source": [
    "print(a >= b)  # Results in False because 2 is not greater than or equal to 3\n",
    "print(a >= c)  # Results in True because 2 is greater than or equal to 2\n",
    "print(a >= d)  # Results in True because 2 is greater than or equal to 2"
   ]
  },
  {
   "cell_type": "markdown",
   "id": "87df5ddb",
   "metadata": {},
   "source": [
    "<span style=\"font-size:1.2em;\"> A final note about booleans is that every variable has a boolean value. Even if the value of a variable is not explicitly True or False, we can still obtain some truth from it. Essentially, as long as a variable is not 0, None, or empty, it's truth value will always evaluate to True. You can check a variable's truth value using the **bool()** function </span>"
   ]
  },
  {
   "cell_type": "code",
   "execution_count": null,
   "id": "5c3d12a8",
   "metadata": {},
   "outputs": [],
   "source": [
    "print(bool(0))\n",
    "print(bool(1))"
   ]
  },
  {
   "cell_type": "code",
   "execution_count": null,
   "id": "dc84bd66",
   "metadata": {},
   "outputs": [],
   "source": [
    "print(bool([]))\n",
    "print(bool([5]))"
   ]
  },
  {
   "cell_type": "code",
   "execution_count": null,
   "id": "cce8e186",
   "metadata": {},
   "outputs": [],
   "source": [
    "print(bool(\"\"))\n",
    "print(bool(\"hello\"))"
   ]
  },
  {
   "cell_type": "markdown",
   "id": "6c09de7f",
   "metadata": {},
   "source": [
    "## Part 4: Strings"
   ]
  },
  {
   "cell_type": "markdown",
   "id": "0b271987",
   "metadata": {},
   "source": [
    "<span style=\"font-size:1.2em;\"> Strings are pieces of text or a sequece of characters surrounded by single or double quotes. They can also be surrounded by triple quotes, but since we mainly use triple quotes for multi-line comments, we will not use them when defining strings in Python. </span>"
   ]
  },
  {
   "cell_type": "code",
   "execution_count": null,
   "id": "4c1a0f7f",
   "metadata": {},
   "outputs": [],
   "source": [
    "name = 'Emily'\n",
    "name"
   ]
  },
  {
   "cell_type": "code",
   "execution_count": null,
   "id": "60971b53",
   "metadata": {},
   "outputs": [],
   "source": [
    "home = \"Murfreesboro, TN\"\n",
    "home"
   ]
  },
  {
   "cell_type": "markdown",
   "id": "10e52e30",
   "metadata": {},
   "source": [
    "<span style=\"font-size:1.2em;\"> While both single and double quotes both result in strings, there are some constraints with single quotes. For example, contractions contain a single quote to specify the location of where a word is shortened. If we try to create a string of a contraction using single quotes, we run into a syntax problem. </span>"
   ]
  },
  {
   "cell_type": "code",
   "execution_count": null,
   "id": "0a03ebb5",
   "metadata": {},
   "outputs": [],
   "source": [
    "contraction = 'can't'"
   ]
  },
  {
   "cell_type": "markdown",
   "id": "48b51a27",
   "metadata": {},
   "source": [
    "<span style=\"font-size:1.2em;\"> This error occurs because the string prematurely ended due to the single quote already within the word. In order to avoid this issue, you have to use escape characters. Escape characters are characters with special meaning (in this example, the single quote) and they are prefaced with a backslash character **\\** right before. You could also use double quotes instead to avoid the use of escape characters entirely. </span>"
   ]
  },
  {
   "cell_type": "code",
   "execution_count": null,
   "id": "eb207170",
   "metadata": {},
   "outputs": [],
   "source": [
    "contraction = 'can\\'t'\n",
    "print(contraction)\n",
    "contraction2 = \"can't\"\n",
    "print(contraction2)"
   ]
  },
  {
   "cell_type": "markdown",
   "id": "3053d62d",
   "metadata": {},
   "source": [
    "### Part 4a: String Manipulation\n",
    "<span style=\"font-size:1.2em;\">One of the most important things you need to learn in Python is how to do string manipulation. String manipulation is how it sounds: you manipulate the contents of a string. Such manipulations include concatenating, joining, slicing, etc.</span>"
   ]
  },
  {
   "cell_type": "code",
   "execution_count": null,
   "id": "770f48c9",
   "metadata": {},
   "outputs": [],
   "source": [
    "word = \"Hello World!\"\n",
    "\n",
    "print(word)\n",
    "print(len(word))  # len() is a built-in function in Python. It returns the length of a given string."
   ]
  },
  {
   "cell_type": "markdown",
   "id": "6db37bed",
   "metadata": {},
   "source": [
    "#### Concatenation\n",
    "<span style=\"font-size:1.2em;\"> Just like with numbers, you can add together strings! This process is known as concatenation. Essentially, you are appending, or adding, a string to the end of another string. You can concatenate strings by using the **+** operator in between the strings you want to add together.</span>"
   ]
  },
  {
   "cell_type": "code",
   "execution_count": null,
   "id": "db3eb454",
   "metadata": {},
   "outputs": [],
   "source": [
    "word_cat = \"Hello\" + \" World!\"  # Appends \" World!\" to the end of the word \"Hello\"\n",
    "\n",
    "print(word_cat)\n",
    "print(len(word_cat))"
   ]
  },
  {
   "cell_type": "markdown",
   "id": "3f3f0971",
   "metadata": {},
   "source": [
    "#### Join\n",
    "<span style=\"font-size:1.2em;\">The process of joining strings is similar to concatenating them. However, for joining strings, you pass in a list of strings to the built-in string function **join()** instead of using the **+** operator. **join()** is a function that is a part of the string class in Python (we will cover more about classes towards the end of the lesson). The **join()** function is called as a member function of a string, where the string is the separator for the list of strings you are wanting to join.</span>"
   ]
  },
  {
   "cell_type": "code",
   "execution_count": null,
   "id": "72c8b42b",
   "metadata": {},
   "outputs": [],
   "source": [
    "word_join = \" \".join([\"Hello\", \"World!\"])  # The empty white-space \" \" is the separator for \"Hello\" and \"World!\"\n",
    "\n",
    "print(word_join)\n",
    "print(len(word_join))"
   ]
  },
  {
   "cell_type": "markdown",
   "id": "21d262e0",
   "metadata": {},
   "source": [
    "#### Upper/lower case\n",
    "<span style=\"font-size:1.2em;\"> You can convert a alpha characters to all upper case or all lower case letter. To do this, you can call the **uper()** function or the **lower()** function. Similar to **join()**, these two functions are member functions of the string class in Python. To call them, they must be trailing a string that you want to convert to all upper/lower case characters. </span>"
   ]
  },
  {
   "cell_type": "code",
   "execution_count": null,
   "id": "612f506f",
   "metadata": {},
   "outputs": [],
   "source": [
    "word_upper = \"Hello World!\".upper() # Converts all alpha characters to upper case letters\n",
    "word_lower = \"Hello World!\".lower() # Converts all alpha characters to lower case letters\n",
    "\n",
    "print(word_upper)\n",
    "print(word_lower)"
   ]
  },
  {
   "cell_type": "markdown",
   "id": "3c8fd9b1",
   "metadata": {},
   "source": [
    "#### Formatting\n",
    "<span style=\"font-size:1.2em;\"> String formatting is an important part about string manipulation. For string formatting, you are manipulating the string as you print/store it. It is a dynamic way of creating a string compared to hard coding. Think of it as creating a string template. We use format specifiers (e.g. **%d**, **%f, etc.) to help specify the type of value that we want to place in the string. You can look up more about string formatting here: https://realpython.com/python-string-formatting/ .</span>"
   ]
  },
  {
   "cell_type": "code",
   "execution_count": null,
   "id": "8c1062ce",
   "metadata": {},
   "outputs": [],
   "source": [
    "name = \"Emily\"\n",
    "age = 25\n",
    "# %s means you want to input a string in-place and %d means you want to input a digit/integer in-place\n",
    "# You specify the arguments that you want to replace %s and %d with using the modulo operator\n",
    "# You then pass in a list/tuple of variables\n",
    "print(\"Hello! My name is %s and I will be %d next Tuesday!\" % (name, age)) "
   ]
  },
  {
   "cell_type": "markdown",
   "id": "8df3ca00",
   "metadata": {},
   "source": [
    "#### Slicing\n",
    "<span style=\"font-size:1.2em;\"> Slicing is a way to obtain a specific character or substring in a string. Essentially, strings are similar to lists in Python (lists are covered in the next section). You can access a specific character or substring by indexing into the string. Indexing works by providing the name of the string variable and then using bracket notation to specify the position of the character or substring. Let's take a look at the following example. Let's try to get the character \"e\" from **word**.</span>"
   ]
  },
  {
   "cell_type": "code",
   "execution_count": null,
   "id": "c861c07e",
   "metadata": {},
   "outputs": [],
   "source": [
    "word = \"Hello World\" \n",
    "word[1]  # index 1 returns the 2nd character in the string"
   ]
  },
  {
   "cell_type": "markdown",
   "id": "f8360597",
   "metadata": {},
   "source": [
    "<span style=\"font-size:1.2em;\"> Notice, how even though 'e' was the second letter, we were able to access it by indexing into our string with 1? That is because strings, lists, tuples, and arrays are zero indexed in Python. All that means is the numbering of items in a sequence starts at 0 instead of 1. So if we want to get the 10<sup>th</sup> letter in a word, we index into it by saying **word[9]** instead of **word[10]**.</span>"
   ]
  },
  {
   "cell_type": "markdown",
   "id": "061be0d2",
   "metadata": {},
   "source": [
    "<span style=\"font-size:1.2em;\"> Along with getting individual characters, we can also get substrings. These are done by providing a range of numbers provided with a colon ( **:** ). Let's take a look at how this is done. We will use the same example again, but this time I want to get the substrings **\"Hello\"** and **\"World\"** separately.</span>"
   ]
  },
  {
   "cell_type": "code",
   "execution_count": null,
   "id": "d00413f7",
   "metadata": {},
   "outputs": [],
   "source": [
    "word = \"Hello World\"\n",
    "print(word[0:5], word[:5])  # 0 is the start, 5 is the exclusive end\n",
    "print(word[6:12], word[6:])  # 6 is the start, 12 is the exclusive end"
   ]
  },
  {
   "cell_type": "markdown",
   "id": "9b38d01b",
   "metadata": {},
   "source": [
    "<span style=\"font-size:1.2em;\"> The first print statement prints the same substring twice; however, the way we obtain the substring differs. </span>\n",
    "    \n",
    "<span style=\"font-size:1.2em;\">   In the first implementation, we explicitly the position of the first character in the substring we want and then we specify where we want it to end. You should notice that if we obtain the 5<sup>th</sup> index of the word, we get an empty space. This is because slicing in strings, lists, and arrays is exclusive on the end. In this example, it means that starting at the 0<sup>th</sup> index, we want to get every character from the 1<sup>st</sup> character up until but not including the 6<sup>th</sup> character, the empty whitespace.</span>\n",
    "\n",
    "<span style=\"font-size:1.2em;\">   In the second implementation, we don't specify a starting location for our substring. In this case, this means we want to obtain every character starting from the beginning up until but not including the 6<sup>th</sup> character. The process is similar for obtaining the second substring.</span>"
   ]
  },
  {
   "cell_type": "markdown",
   "id": "f32887e2",
   "metadata": {},
   "source": [
    "## Part 5: Lists\n",
    "<span style=\"font-size:1.2em;\"> Lists are basically mutable, or changeable, arrays, or a sequence of a group of objects. This means that you can store any object of any data type into a list, including another list! You create lists using square brackets (**[]**). You can also create an empty list using the built-in **list()** function in Python.</span>"
   ]
  },
  {
   "cell_type": "code",
   "execution_count": null,
   "id": "f635e16e",
   "metadata": {},
   "outputs": [],
   "source": [
    "list1 = []  # Creates an empty list\n",
    "list2 = ['apples', 'oranges', 'bananas']  # Creates a list of strings\n",
    "list3 = ['apples', 2, (1, 3, 4)]  # Creates a list of objects\n",
    "list4 = list()  # Creates an empty list\n",
    "\n",
    "print(list1, len(list1))\n",
    "print(list2, len(list2))\n",
    "print(list3, len(list3))\n",
    "print(list4, len(list4))"
   ]
  },
  {
   "cell_type": "markdown",
   "id": "f871ed3d",
   "metadata": {},
   "source": [
    "#### Indexing"
   ]
  },
  {
   "cell_type": "markdown",
   "id": "3e6c4a02",
   "metadata": {},
   "source": [
    "<span style=\"font-size:1.2em;\"> Since lists are mutable, you can change the value of an item in the list by using index notation and the assignment operator.</span>"
   ]
  },
  {
   "cell_type": "code",
   "execution_count": null,
   "id": "4862b756",
   "metadata": {},
   "outputs": [],
   "source": [
    "list2[0] = 'mangos'  # Change the value of the first item in the list from 'apples' to 'mangos'\n",
    "print(list2)"
   ]
  },
  {
   "cell_type": "markdown",
   "id": "44f78ded",
   "metadata": {},
   "source": [
    "#### Slicing\n",
    "<span style=\"font-size:1.2em;\"> You can access items or elements in a list similar to strings. If you want an individual item, you just use index notation and provide the indexed location of the item. If you want a subset of items from a list, you can provide a range of numbers using a colon ( **:** ) where the right side of the colon specifies the index to exclude. </span>"
   ]
  },
  {
   "cell_type": "code",
   "execution_count": null,
   "id": "9f6371a0",
   "metadata": {},
   "outputs": [],
   "source": [
    "grocery_list = ['milk', 'eggs', 'apples', 'oranges', 'bread']\n",
    "print(grocery_list[1])  # Get the second item from the list\n",
    "print(grocery_list[2:])  # Get the last three items from the list"
   ]
  },
  {
   "cell_type": "markdown",
   "id": "db3b2f80",
   "metadata": {},
   "source": [
    "#### Nested Lists\n",
    "<span style=\"font-size:1.2em;\"> Nested lists are whenever you have a list as an element/item of another list. You can use index notation to obtain elements from nested lists. </span>"
   ]
  },
  {
   "cell_type": "code",
   "execution_count": null,
   "id": "bb2adc09",
   "metadata": {},
   "outputs": [],
   "source": [
    "shopping_list = [['gloves'], ['earrings', 'hats'], ['shoes', 'socks']]\n",
    "print(shopping_list[0][0])  # Index 0 gets ['gloves']; another index 0 gets 'gloves'\n",
    "print(shopping_list[1][0])  # Index 1 gets ['earrings', 'hats']; another index 0 gets 'earrings'\n",
    "print(shopping_list[2][1])  # Index 2 gets ['shoes', 'socks']; another index 1 gets 'socks'"
   ]
  },
  {
   "cell_type": "markdown",
   "id": "1612fb69",
   "metadata": {},
   "source": [
    "#### Concatenation\n",
    "<span style=\"font-size:1.2em;\"> Similar to strings, you can add/append lists to one another using the **+** operator.</span>"
   ]
  },
  {
   "cell_type": "code",
   "execution_count": null,
   "id": "77306f6e",
   "metadata": {},
   "outputs": [],
   "source": [
    "fruit = ['apples', 'oranges', 'bananas']\n",
    "dairy = ['cheese', 'milk']\n",
    "groceries = fruit + dairy\n",
    "print(groceries)"
   ]
  },
  {
   "cell_type": "markdown",
   "id": "f2d0273e",
   "metadata": {},
   "source": [
    "#### Append and Pop\n",
    "<span style=\"font-size:1.2em;\"> Since lists are mutable, you can add things to the end of a list by using the built-in **append()** function for the list class in Python. Additionally, just as you can append, you can remove, or pop, things from a list using the built-in **pop()** function. **NOTE: using these functions will change the list itself, so pay attention when using these**.</span>"
   ]
  },
  {
   "cell_type": "code",
   "execution_count": null,
   "id": "e9c4b1fd",
   "metadata": {},
   "outputs": [],
   "source": [
    "fruits = ['apples', 'oranges', 'bananas']\n",
    "print(fruits)\n",
    "\n",
    "fruits.append('guava')  # Adds 'guava' to the back/end of the list\n",
    "print(fruits)\n",
    "\n",
    "fruits.pop()  # Removes the last item in a list\n",
    "print(fruits)\n",
    "\n",
    "fruits.pop(0)  # Removes an item in the 0th index\n",
    "print(fruits)"
   ]
  },
  {
   "cell_type": "markdown",
   "id": "1429228b",
   "metadata": {},
   "source": [
    "#### Sort\n",
    "<span style=\"font-size:1.2em;\"> Sorting items in a list can be easy in Python. All you have to use is the built-in function **sort()**. **sort()** is a member function of the list class and it can only sort lists if the items in that list are of comparable data types. Essentially, if the list contains ONLY numbers or ONLY strings, you can sort it.</span>"
   ]
  },
  {
   "cell_type": "code",
   "execution_count": null,
   "id": "af511b12",
   "metadata": {},
   "outputs": [],
   "source": [
    "numbers = [43, 85, 15, 3, 9, 22, 63]\n",
    "\n",
    "numbers.sort()  # Sorts numbers from least-to-greatest\n",
    "print(numbers)\n",
    "\n",
    "numbers.sort(reverse=True)  # Sorts numbers from greatest-to-least\n",
    "print(numbers)"
   ]
  },
  {
   "cell_type": "code",
   "execution_count": null,
   "id": "04a5b6c4",
   "metadata": {},
   "outputs": [],
   "source": [
    "words = [\"hello\", \"apples\", \"bananas\", \"zebra\", \"Arizona\", \"Montana\"]\n",
    "words.sort()  # Sorts strings based on ASCII-value from least-to-greatest\n",
    "print(words)\n",
    "\n",
    "words.sort(reverse=True)  # Sorts strings based on ASCII-value from greatest-to-least\n",
    "print(words)"
   ]
  },
  {
   "cell_type": "markdown",
   "id": "ffa54efb",
   "metadata": {},
   "source": [
    "## Summary\n",
    "<span style=\"font-size:1.2em;\"> In this lesson, we were introduced to a few data types in Python and how to use them. There are still more data types to discuss, such as tuples, dictionaries, sets, and classes; however, those will be covered in the next lesson. For now, play around with the code in this lesson to get an even better understanding of how everything works. </span>"
   ]
  },
  {
   "cell_type": "code",
   "execution_count": null,
   "id": "4b671a96",
   "metadata": {},
   "outputs": [],
   "source": []
  }
 ],
 "metadata": {
  "kernelspec": {
   "display_name": "Python 3 (ipykernel)",
   "language": "python",
   "name": "python3"
  },
  "language_info": {
   "codemirror_mode": {
    "name": "ipython",
    "version": 3
   },
   "file_extension": ".py",
   "mimetype": "text/x-python",
   "name": "python",
   "nbconvert_exporter": "python",
   "pygments_lexer": "ipython3",
   "version": "3.8.2"
  }
 },
 "nbformat": 4,
 "nbformat_minor": 5
}

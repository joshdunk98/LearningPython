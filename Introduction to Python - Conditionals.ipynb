{
 "cells": [
  {
   "cell_type": "markdown",
   "id": "02d2c174",
   "metadata": {},
   "source": [
    "# Learning the Basics with Python (part 4)"
   ]
  },
  {
   "cell_type": "markdown",
   "id": "2defcb61",
   "metadata": {},
   "source": [
    "## Conditionals\n",
    "\n",
    "<span style=\"font-size:1.2em;\">Sometimes, you only want certain parts of your code to run if it meets some type of condition. For example, if it is raining, send a notification to a user to wear a rain jacket, or if a user spends more than \\\\$100 when shopping online, give them a coupon for next time they shop online. In this case, we can use conditional statements! </span>\n",
    "\n",
    "<span style=\"font-size:1.2em;\">Conditional statements control the execution of blocks of code depending on a truth value on some given expression. We use the **if**, **elif**, and **else** keywords to create conditional statements.</span>"
   ]
  },
  {
   "cell_type": "code",
   "execution_count": null,
   "id": "5ddbf27c",
   "metadata": {},
   "outputs": [],
   "source": [
    "rainy = True\n",
    "cloudy = True"
   ]
  },
  {
   "cell_type": "code",
   "execution_count": null,
   "id": "ddcaa050",
   "metadata": {},
   "outputs": [],
   "source": [
    "if rainy and cloudy:  # Executed if rainy is True and cloudy is True\n",
    "    print(\"Wear a rain jacket!\")\n",
    "elif not rainy and cloudy:  # Executed if rainy is False and cloudy is True\n",
    "    print(\"It's not raining now, but it might later....\")\n",
    "else:  # Executed if all other conditions were not met\n",
    "    print(\"It'll be nice out. Leave your umbrella at home.\")"
   ]
  },
  {
   "cell_type": "markdown",
   "id": "f3765b82",
   "metadata": {},
   "source": [
    "### Boolean operators\n",
    "<span style=\"font-size:1.2em;\">You probably remember how we talked about booleans back in the Data Types lesson. They're used to help express the truth in an expression (i.e., True or False). When we are using conditional statements, booleans operators are imperative. They're not the same as comparison operators (**\\<**, **\\>**, etc.). Boolean operators include the keywords **and** (&&), **or** (||), and **not**. Boolean operators are used as conjunctions to combine two or more expressions to create a more refined truth statement.</span>"
   ]
  },
  {
   "cell_type": "markdown",
   "id": "38c836d8",
   "metadata": {},
   "source": [
    "### AND (&&)\n",
    "<span style=\"font-size:1.2em;\">The keyword **and** specifies that you want to check the truth value of all expressions combined with **and**. In terms of the final truth value for the combined statements, it's kind of an all-or-nothing deal. If you are combining two or more expressions with **and** and you want the entire combined expression to result to **True**, each individual expression must result to **True**; otherwise, the statement is **False**. The following table gives an idea of what the final truth result would be for various combinations of two expressions.</span>\n"
   ]
  },
  {
   "cell_type": "markdown",
   "id": "d52adfa4",
   "metadata": {},
   "source": [
    "| Boolean (AND)    | True | False     |\n",
    "| :---        |    :----:   |          ---: |\n",
    "| True   | True      | False  |\n",
    "| False  | False       | False      |"
   ]
  },
  {
   "cell_type": "code",
   "execution_count": null,
   "id": "109f7a7e",
   "metadata": {},
   "outputs": [],
   "source": [
    "rainy = True\n",
    "cloudy = True\n",
    "sunny = False\n",
    "\n",
    "if rainy and cloudy and sunny:\n",
    "    print(\"All expressions are True\")\n",
    "else:\n",
    "    print(\"At least one expression is False\")"
   ]
  },
  {
   "cell_type": "code",
   "execution_count": null,
   "id": "e5737a8c",
   "metadata": {},
   "outputs": [],
   "source": [
    "if rainy and cloudy:\n",
    "    print(\"Both expressions are True\")\n",
    "else:\n",
    "    print(\"At least one expression is False\")"
   ]
  },
  {
   "cell_type": "markdown",
   "id": "6fa25ede",
   "metadata": {},
   "source": [
    "### OR (||)\n",
    "<span style=\"font-size:1.2em;\">The keyword **or** specifies that you want to check the truth value of each expression combined with **or** until you find the first expression that results to **True**. Basically, if you have two or more expressions combined with **or**, if the first expression results to **True**, the entire expression results to **True** and the other expressions are not checked. You only care about ONE expression being **True**. The only time expressions combined with **or** will result to **False** is if all of the expressions result to **False**. The following table gives an idea of what the final truth value would be for various combinations of two expressions.</span>"
   ]
  },
  {
   "cell_type": "markdown",
   "id": "e15691e8",
   "metadata": {},
   "source": [
    "| Boolean (OR)    | True | False     |\n",
    "| :---        |    :----:   |          ---: |\n",
    "| True   | True      | True |\n",
    "| False  | True       | False      |"
   ]
  },
  {
   "cell_type": "code",
   "execution_count": null,
   "id": "590bebed",
   "metadata": {},
   "outputs": [],
   "source": [
    "rainy = False\n",
    "cloudy = True\n",
    "sunny = False\n",
    "\n",
    "if rainy and cloudy and sunny:\n",
    "    print(\"At least one expression is True\")\n",
    "else:\n",
    "    print(\"All expressions are False\")"
   ]
  },
  {
   "cell_type": "markdown",
   "id": "3837355c",
   "metadata": {},
   "source": [
    "### NOT\n",
    "<span style=\"font-size:1.2em;\">The keyword **not** specifies that you want to negate the truth value of an expression (i.e., reverse the truth value). If an expression results to **True**, by including not before it, the expression then changes to **False**. The following table gives an idea of how **not** works with single truth statements.</span>"
   ]
  },
  {
   "cell_type": "markdown",
   "id": "a4105506",
   "metadata": {},
   "source": [
    "| Boolean (NOT)    |  |\n",
    "| :---        |    :----:   |\n",
    "| True   | False     |\n",
    "| False  | True       |"
   ]
  },
  {
   "cell_type": "code",
   "execution_count": null,
   "id": "319b2417",
   "metadata": {},
   "outputs": [],
   "source": [
    "rainy = True\n",
    "\n",
    "if not rainy:\n",
    "    print(\"rainy is actually False\")\n",
    "else:\n",
    "    print(\"rainy is actually True\")"
   ]
  },
  {
   "cell_type": "code",
   "execution_count": null,
   "id": "30d75cb7",
   "metadata": {},
   "outputs": [],
   "source": [
    "cloudy = False\n",
    "sunny = True\n",
    "\n",
    "if not (rainy and cloudy and sunny):\n",
    "    print(\"This statement is actually False\")\n",
    "else:\n",
    "    print(\"This statement is actually True\")"
   ]
  }
 ],
 "metadata": {
  "kernelspec": {
   "display_name": "Python 3 (ipykernel)",
   "language": "python",
   "name": "python3"
  },
  "language_info": {
   "codemirror_mode": {
    "name": "ipython",
    "version": 3
   },
   "file_extension": ".py",
   "mimetype": "text/x-python",
   "name": "python",
   "nbconvert_exporter": "python",
   "pygments_lexer": "ipython3",
   "version": "3.8.2"
  }
 },
 "nbformat": 4,
 "nbformat_minor": 5
}
